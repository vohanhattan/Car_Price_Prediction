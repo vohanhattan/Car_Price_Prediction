{
 "cells": [
  {
   "cell_type": "markdown",
   "id": "2d463e4c",
   "metadata": {},
   "source": [
    "<h1>Toyota car price prediction with Pyspark</h1>"
   ]
  },
  {
   "cell_type": "code",
   "execution_count": 1,
   "id": "a02b9a11",
   "metadata": {},
   "outputs": [],
   "source": [
    "import findspark\n",
    "findspark.init()\n",
    "\n",
    "import pyspark\n",
    "findspark.find()\n",
    "\n",
    "from pyspark.sql import SparkSession\n",
    "from pyspark.sql.functions import count\n",
    "\n",
    "spark = (SparkSession\n",
    "         .builder\n",
    "         .appName(\"Project_Nhom9\")\n",
    "         .getOrCreate())"
   ]
  },
  {
   "cell_type": "markdown",
   "id": "73ede167",
   "metadata": {},
   "source": [
    "<h1>1. Importing Libraries and Reading the Dataset</h1>"
   ]
  },
  {
   "cell_type": "code",
   "execution_count": 2,
   "id": "93ebc5c6",
   "metadata": {},
   "outputs": [],
   "source": [
    "import numpy as np\n",
    "import matplotlib.pyplot as plt\n",
    "import pandas as pd\n",
    "import seaborn as sns\n",
    "import seaborn as sns\n",
    "from pyspark.ml.feature import VectorAssembler\n",
    "from pyspark.ml.linalg import Vectors"
   ]
  },
  {
   "cell_type": "code",
   "execution_count": 3,
   "id": "9d300a10",
   "metadata": {},
   "outputs": [
    {
     "data": {
      "text/html": [
       "<div>\n",
       "<style scoped>\n",
       "    .dataframe tbody tr th:only-of-type {\n",
       "        vertical-align: middle;\n",
       "    }\n",
       "\n",
       "    .dataframe tbody tr th {\n",
       "        vertical-align: top;\n",
       "    }\n",
       "\n",
       "    .dataframe thead th {\n",
       "        text-align: right;\n",
       "    }\n",
       "</style>\n",
       "<table border=\"1\" class=\"dataframe\">\n",
       "  <thead>\n",
       "    <tr style=\"text-align: right;\">\n",
       "      <th></th>\n",
       "      <th>Price</th>\n",
       "      <th>Age</th>\n",
       "      <th>KM</th>\n",
       "      <th>FuelType</th>\n",
       "      <th>HP</th>\n",
       "      <th>MetColor</th>\n",
       "      <th>Automatic</th>\n",
       "      <th>CC</th>\n",
       "      <th>Doors</th>\n",
       "      <th>Weight</th>\n",
       "    </tr>\n",
       "  </thead>\n",
       "  <tbody>\n",
       "    <tr>\n",
       "      <th>0</th>\n",
       "      <td>13500</td>\n",
       "      <td>23</td>\n",
       "      <td>46986</td>\n",
       "      <td>Diesel</td>\n",
       "      <td>90</td>\n",
       "      <td>1</td>\n",
       "      <td>0</td>\n",
       "      <td>2000</td>\n",
       "      <td>3</td>\n",
       "      <td>1165</td>\n",
       "    </tr>\n",
       "    <tr>\n",
       "      <th>1</th>\n",
       "      <td>13750</td>\n",
       "      <td>23</td>\n",
       "      <td>72937</td>\n",
       "      <td>Diesel</td>\n",
       "      <td>90</td>\n",
       "      <td>1</td>\n",
       "      <td>0</td>\n",
       "      <td>2000</td>\n",
       "      <td>3</td>\n",
       "      <td>1165</td>\n",
       "    </tr>\n",
       "    <tr>\n",
       "      <th>2</th>\n",
       "      <td>13950</td>\n",
       "      <td>24</td>\n",
       "      <td>41711</td>\n",
       "      <td>Diesel</td>\n",
       "      <td>90</td>\n",
       "      <td>1</td>\n",
       "      <td>0</td>\n",
       "      <td>2000</td>\n",
       "      <td>3</td>\n",
       "      <td>1165</td>\n",
       "    </tr>\n",
       "    <tr>\n",
       "      <th>3</th>\n",
       "      <td>14950</td>\n",
       "      <td>26</td>\n",
       "      <td>48000</td>\n",
       "      <td>Diesel</td>\n",
       "      <td>90</td>\n",
       "      <td>0</td>\n",
       "      <td>0</td>\n",
       "      <td>2000</td>\n",
       "      <td>3</td>\n",
       "      <td>1165</td>\n",
       "    </tr>\n",
       "    <tr>\n",
       "      <th>4</th>\n",
       "      <td>13750</td>\n",
       "      <td>30</td>\n",
       "      <td>38500</td>\n",
       "      <td>Diesel</td>\n",
       "      <td>90</td>\n",
       "      <td>0</td>\n",
       "      <td>0</td>\n",
       "      <td>2000</td>\n",
       "      <td>3</td>\n",
       "      <td>1170</td>\n",
       "    </tr>\n",
       "    <tr>\n",
       "      <th>5</th>\n",
       "      <td>12950</td>\n",
       "      <td>32</td>\n",
       "      <td>61000</td>\n",
       "      <td>Diesel</td>\n",
       "      <td>90</td>\n",
       "      <td>0</td>\n",
       "      <td>0</td>\n",
       "      <td>2000</td>\n",
       "      <td>3</td>\n",
       "      <td>1170</td>\n",
       "    </tr>\n",
       "    <tr>\n",
       "      <th>6</th>\n",
       "      <td>16900</td>\n",
       "      <td>27</td>\n",
       "      <td>94612</td>\n",
       "      <td>Diesel</td>\n",
       "      <td>90</td>\n",
       "      <td>1</td>\n",
       "      <td>0</td>\n",
       "      <td>2000</td>\n",
       "      <td>3</td>\n",
       "      <td>1245</td>\n",
       "    </tr>\n",
       "    <tr>\n",
       "      <th>7</th>\n",
       "      <td>18600</td>\n",
       "      <td>30</td>\n",
       "      <td>75889</td>\n",
       "      <td>Diesel</td>\n",
       "      <td>90</td>\n",
       "      <td>1</td>\n",
       "      <td>0</td>\n",
       "      <td>2000</td>\n",
       "      <td>3</td>\n",
       "      <td>1245</td>\n",
       "    </tr>\n",
       "    <tr>\n",
       "      <th>8</th>\n",
       "      <td>21500</td>\n",
       "      <td>27</td>\n",
       "      <td>19700</td>\n",
       "      <td>Petrol</td>\n",
       "      <td>192</td>\n",
       "      <td>0</td>\n",
       "      <td>0</td>\n",
       "      <td>1800</td>\n",
       "      <td>3</td>\n",
       "      <td>1185</td>\n",
       "    </tr>\n",
       "    <tr>\n",
       "      <th>9</th>\n",
       "      <td>12950</td>\n",
       "      <td>23</td>\n",
       "      <td>71138</td>\n",
       "      <td>Diesel</td>\n",
       "      <td>69</td>\n",
       "      <td>0</td>\n",
       "      <td>0</td>\n",
       "      <td>1900</td>\n",
       "      <td>3</td>\n",
       "      <td>1105</td>\n",
       "    </tr>\n",
       "    <tr>\n",
       "      <th>10</th>\n",
       "      <td>20950</td>\n",
       "      <td>25</td>\n",
       "      <td>31461</td>\n",
       "      <td>Petrol</td>\n",
       "      <td>192</td>\n",
       "      <td>0</td>\n",
       "      <td>0</td>\n",
       "      <td>1800</td>\n",
       "      <td>3</td>\n",
       "      <td>1185</td>\n",
       "    </tr>\n",
       "    <tr>\n",
       "      <th>11</th>\n",
       "      <td>19950</td>\n",
       "      <td>22</td>\n",
       "      <td>43610</td>\n",
       "      <td>Petrol</td>\n",
       "      <td>192</td>\n",
       "      <td>0</td>\n",
       "      <td>0</td>\n",
       "      <td>1800</td>\n",
       "      <td>3</td>\n",
       "      <td>1185</td>\n",
       "    </tr>\n",
       "    <tr>\n",
       "      <th>12</th>\n",
       "      <td>19600</td>\n",
       "      <td>25</td>\n",
       "      <td>32189</td>\n",
       "      <td>Petrol</td>\n",
       "      <td>192</td>\n",
       "      <td>0</td>\n",
       "      <td>0</td>\n",
       "      <td>1800</td>\n",
       "      <td>3</td>\n",
       "      <td>1185</td>\n",
       "    </tr>\n",
       "    <tr>\n",
       "      <th>13</th>\n",
       "      <td>21500</td>\n",
       "      <td>31</td>\n",
       "      <td>23000</td>\n",
       "      <td>Petrol</td>\n",
       "      <td>192</td>\n",
       "      <td>1</td>\n",
       "      <td>0</td>\n",
       "      <td>1800</td>\n",
       "      <td>3</td>\n",
       "      <td>1185</td>\n",
       "    </tr>\n",
       "    <tr>\n",
       "      <th>14</th>\n",
       "      <td>22500</td>\n",
       "      <td>32</td>\n",
       "      <td>34131</td>\n",
       "      <td>Petrol</td>\n",
       "      <td>192</td>\n",
       "      <td>1</td>\n",
       "      <td>0</td>\n",
       "      <td>1800</td>\n",
       "      <td>3</td>\n",
       "      <td>1185</td>\n",
       "    </tr>\n",
       "    <tr>\n",
       "      <th>15</th>\n",
       "      <td>22000</td>\n",
       "      <td>28</td>\n",
       "      <td>18739</td>\n",
       "      <td>Petrol</td>\n",
       "      <td>192</td>\n",
       "      <td>0</td>\n",
       "      <td>0</td>\n",
       "      <td>1800</td>\n",
       "      <td>3</td>\n",
       "      <td>1185</td>\n",
       "    </tr>\n",
       "    <tr>\n",
       "      <th>16</th>\n",
       "      <td>22750</td>\n",
       "      <td>30</td>\n",
       "      <td>34000</td>\n",
       "      <td>Petrol</td>\n",
       "      <td>192</td>\n",
       "      <td>1</td>\n",
       "      <td>0</td>\n",
       "      <td>1800</td>\n",
       "      <td>3</td>\n",
       "      <td>1185</td>\n",
       "    </tr>\n",
       "    <tr>\n",
       "      <th>17</th>\n",
       "      <td>17950</td>\n",
       "      <td>24</td>\n",
       "      <td>21716</td>\n",
       "      <td>Petrol</td>\n",
       "      <td>110</td>\n",
       "      <td>1</td>\n",
       "      <td>0</td>\n",
       "      <td>1600</td>\n",
       "      <td>3</td>\n",
       "      <td>1105</td>\n",
       "    </tr>\n",
       "    <tr>\n",
       "      <th>18</th>\n",
       "      <td>16750</td>\n",
       "      <td>24</td>\n",
       "      <td>25563</td>\n",
       "      <td>Petrol</td>\n",
       "      <td>110</td>\n",
       "      <td>0</td>\n",
       "      <td>0</td>\n",
       "      <td>1600</td>\n",
       "      <td>3</td>\n",
       "      <td>1065</td>\n",
       "    </tr>\n",
       "    <tr>\n",
       "      <th>19</th>\n",
       "      <td>16950</td>\n",
       "      <td>30</td>\n",
       "      <td>64359</td>\n",
       "      <td>Petrol</td>\n",
       "      <td>110</td>\n",
       "      <td>1</td>\n",
       "      <td>0</td>\n",
       "      <td>1600</td>\n",
       "      <td>3</td>\n",
       "      <td>1105</td>\n",
       "    </tr>\n",
       "  </tbody>\n",
       "</table>\n",
       "</div>"
      ],
      "text/plain": [
       "    Price  Age     KM FuelType   HP  MetColor  Automatic    CC  Doors  Weight\n",
       "0   13500   23  46986   Diesel   90         1          0  2000      3    1165\n",
       "1   13750   23  72937   Diesel   90         1          0  2000      3    1165\n",
       "2   13950   24  41711   Diesel   90         1          0  2000      3    1165\n",
       "3   14950   26  48000   Diesel   90         0          0  2000      3    1165\n",
       "4   13750   30  38500   Diesel   90         0          0  2000      3    1170\n",
       "5   12950   32  61000   Diesel   90         0          0  2000      3    1170\n",
       "6   16900   27  94612   Diesel   90         1          0  2000      3    1245\n",
       "7   18600   30  75889   Diesel   90         1          0  2000      3    1245\n",
       "8   21500   27  19700   Petrol  192         0          0  1800      3    1185\n",
       "9   12950   23  71138   Diesel   69         0          0  1900      3    1105\n",
       "10  20950   25  31461   Petrol  192         0          0  1800      3    1185\n",
       "11  19950   22  43610   Petrol  192         0          0  1800      3    1185\n",
       "12  19600   25  32189   Petrol  192         0          0  1800      3    1185\n",
       "13  21500   31  23000   Petrol  192         1          0  1800      3    1185\n",
       "14  22500   32  34131   Petrol  192         1          0  1800      3    1185\n",
       "15  22000   28  18739   Petrol  192         0          0  1800      3    1185\n",
       "16  22750   30  34000   Petrol  192         1          0  1800      3    1185\n",
       "17  17950   24  21716   Petrol  110         1          0  1600      3    1105\n",
       "18  16750   24  25563   Petrol  110         0          0  1600      3    1065\n",
       "19  16950   30  64359   Petrol  110         1          0  1600      3    1105"
      ]
     },
     "execution_count": 3,
     "metadata": {},
     "output_type": "execute_result"
    }
   ],
   "source": [
    "carDF = pd.read_csv(\"./ToyotaCorolla.csv\")\n",
    "carDF.head(20)"
   ]
  },
  {
   "cell_type": "code",
   "execution_count": 4,
   "id": "233674ae",
   "metadata": {},
   "outputs": [
    {
     "data": {
      "text/plain": [
       "Price        1436\n",
       "Age          1436\n",
       "KM           1436\n",
       "FuelType     1436\n",
       "HP           1436\n",
       "MetColor     1436\n",
       "Automatic    1436\n",
       "CC           1436\n",
       "Doors        1436\n",
       "Weight       1436\n",
       "dtype: int64"
      ]
     },
     "execution_count": 4,
     "metadata": {},
     "output_type": "execute_result"
    }
   ],
   "source": [
    "carDF.count()"
   ]
  },
  {
   "cell_type": "markdown",
   "id": "4fdb5990",
   "metadata": {},
   "source": [
    "- Description of the data set: The data set includes 10 attributes (including 7 variables, 3 categorical variables):\n",
    "\n",
    "    + price: Toyota car price (in Euro)\n",
    "\n",
    "    + Age: age of the vehicle (in years).\n",
    "\n",
    "    + KM: the distance traveled by the vehicle (in KM)\n",
    "\n",
    "    + HP: Horsepower (in HP, 1HP=0.746 kW)\n",
    "\n",
    "    + MetColor: metallic (0: no, 1: yes)\n",
    "\n",
    "    + Automatic: Automatic number (0: no, 1: yes)\n",
    "\n",
    "    + CC: Cylinder volume (in cubic centimeters)\n",
    "\n",
    "    + Doors: Number of doors\n",
    "\n",
    "    + Weight: Weight of the vehicle.\n",
    "\n",
    "    + FuelType: Fuel Type\n",
    "\n",
    "- Input: Age, KM, HP, CC, Door, Weight\n",
    "\n",
    "- Output: Price"
   ]
  },
  {
   "cell_type": "code",
   "execution_count": 5,
   "id": "42c6eb7c",
   "metadata": {},
   "outputs": [
    {
     "data": {
      "text/html": [
       "<div>\n",
       "<style scoped>\n",
       "    .dataframe tbody tr th:only-of-type {\n",
       "        vertical-align: middle;\n",
       "    }\n",
       "\n",
       "    .dataframe tbody tr th {\n",
       "        vertical-align: top;\n",
       "    }\n",
       "\n",
       "    .dataframe thead th {\n",
       "        text-align: right;\n",
       "    }\n",
       "</style>\n",
       "<table border=\"1\" class=\"dataframe\">\n",
       "  <thead>\n",
       "    <tr style=\"text-align: right;\">\n",
       "      <th></th>\n",
       "      <th>Price</th>\n",
       "      <th>Age</th>\n",
       "      <th>KM</th>\n",
       "      <th>HP</th>\n",
       "      <th>MetColor</th>\n",
       "      <th>Automatic</th>\n",
       "      <th>CC</th>\n",
       "      <th>Doors</th>\n",
       "      <th>Weight</th>\n",
       "    </tr>\n",
       "  </thead>\n",
       "  <tbody>\n",
       "    <tr>\n",
       "      <th>count</th>\n",
       "      <td>1436.000000</td>\n",
       "      <td>1436.000000</td>\n",
       "      <td>1436.000000</td>\n",
       "      <td>1436.000000</td>\n",
       "      <td>1436.000000</td>\n",
       "      <td>1436.000000</td>\n",
       "      <td>1436.000000</td>\n",
       "      <td>1436.000000</td>\n",
       "      <td>1436.00000</td>\n",
       "    </tr>\n",
       "    <tr>\n",
       "      <th>mean</th>\n",
       "      <td>10730.824513</td>\n",
       "      <td>55.947075</td>\n",
       "      <td>68533.259749</td>\n",
       "      <td>101.502089</td>\n",
       "      <td>0.674791</td>\n",
       "      <td>0.055710</td>\n",
       "      <td>1566.827994</td>\n",
       "      <td>4.033426</td>\n",
       "      <td>1072.45961</td>\n",
       "    </tr>\n",
       "    <tr>\n",
       "      <th>std</th>\n",
       "      <td>3626.964585</td>\n",
       "      <td>18.599988</td>\n",
       "      <td>37506.448872</td>\n",
       "      <td>14.981080</td>\n",
       "      <td>0.468616</td>\n",
       "      <td>0.229441</td>\n",
       "      <td>187.182436</td>\n",
       "      <td>0.952677</td>\n",
       "      <td>52.64112</td>\n",
       "    </tr>\n",
       "    <tr>\n",
       "      <th>min</th>\n",
       "      <td>4350.000000</td>\n",
       "      <td>1.000000</td>\n",
       "      <td>1.000000</td>\n",
       "      <td>69.000000</td>\n",
       "      <td>0.000000</td>\n",
       "      <td>0.000000</td>\n",
       "      <td>1300.000000</td>\n",
       "      <td>2.000000</td>\n",
       "      <td>1000.00000</td>\n",
       "    </tr>\n",
       "    <tr>\n",
       "      <th>25%</th>\n",
       "      <td>8450.000000</td>\n",
       "      <td>44.000000</td>\n",
       "      <td>43000.000000</td>\n",
       "      <td>90.000000</td>\n",
       "      <td>0.000000</td>\n",
       "      <td>0.000000</td>\n",
       "      <td>1400.000000</td>\n",
       "      <td>3.000000</td>\n",
       "      <td>1040.00000</td>\n",
       "    </tr>\n",
       "    <tr>\n",
       "      <th>50%</th>\n",
       "      <td>9900.000000</td>\n",
       "      <td>61.000000</td>\n",
       "      <td>63389.500000</td>\n",
       "      <td>110.000000</td>\n",
       "      <td>1.000000</td>\n",
       "      <td>0.000000</td>\n",
       "      <td>1600.000000</td>\n",
       "      <td>4.000000</td>\n",
       "      <td>1070.00000</td>\n",
       "    </tr>\n",
       "    <tr>\n",
       "      <th>75%</th>\n",
       "      <td>11950.000000</td>\n",
       "      <td>70.000000</td>\n",
       "      <td>87020.750000</td>\n",
       "      <td>110.000000</td>\n",
       "      <td>1.000000</td>\n",
       "      <td>0.000000</td>\n",
       "      <td>1600.000000</td>\n",
       "      <td>5.000000</td>\n",
       "      <td>1085.00000</td>\n",
       "    </tr>\n",
       "    <tr>\n",
       "      <th>max</th>\n",
       "      <td>32500.000000</td>\n",
       "      <td>80.000000</td>\n",
       "      <td>243000.000000</td>\n",
       "      <td>192.000000</td>\n",
       "      <td>1.000000</td>\n",
       "      <td>1.000000</td>\n",
       "      <td>2000.000000</td>\n",
       "      <td>5.000000</td>\n",
       "      <td>1615.00000</td>\n",
       "    </tr>\n",
       "  </tbody>\n",
       "</table>\n",
       "</div>"
      ],
      "text/plain": [
       "              Price          Age             KM           HP     MetColor  \\\n",
       "count   1436.000000  1436.000000    1436.000000  1436.000000  1436.000000   \n",
       "mean   10730.824513    55.947075   68533.259749   101.502089     0.674791   \n",
       "std     3626.964585    18.599988   37506.448872    14.981080     0.468616   \n",
       "min     4350.000000     1.000000       1.000000    69.000000     0.000000   \n",
       "25%     8450.000000    44.000000   43000.000000    90.000000     0.000000   \n",
       "50%     9900.000000    61.000000   63389.500000   110.000000     1.000000   \n",
       "75%    11950.000000    70.000000   87020.750000   110.000000     1.000000   \n",
       "max    32500.000000    80.000000  243000.000000   192.000000     1.000000   \n",
       "\n",
       "         Automatic           CC        Doors      Weight  \n",
       "count  1436.000000  1436.000000  1436.000000  1436.00000  \n",
       "mean      0.055710  1566.827994     4.033426  1072.45961  \n",
       "std       0.229441   187.182436     0.952677    52.64112  \n",
       "min       0.000000  1300.000000     2.000000  1000.00000  \n",
       "25%       0.000000  1400.000000     3.000000  1040.00000  \n",
       "50%       0.000000  1600.000000     4.000000  1070.00000  \n",
       "75%       0.000000  1600.000000     5.000000  1085.00000  \n",
       "max       1.000000  2000.000000     5.000000  1615.00000  "
      ]
     },
     "execution_count": 5,
     "metadata": {},
     "output_type": "execute_result"
    }
   ],
   "source": [
    "carDF.describe()"
   ]
  },
  {
   "cell_type": "markdown",
   "id": "7f88742c",
   "metadata": {},
   "source": [
    "<h1>2. Data Preprocessing and Visualization</h1>"
   ]
  },
  {
   "cell_type": "code",
   "execution_count": 6,
   "id": "0da15e33",
   "metadata": {},
   "outputs": [
    {
     "data": {
      "text/plain": [
       "Price        0\n",
       "Age          0\n",
       "KM           0\n",
       "FuelType     0\n",
       "HP           0\n",
       "MetColor     0\n",
       "Automatic    0\n",
       "CC           0\n",
       "Doors        0\n",
       "Weight       0\n",
       "dtype: int64"
      ]
     },
     "execution_count": 6,
     "metadata": {},
     "output_type": "execute_result"
    }
   ],
   "source": [
    "carDF.isnull().sum()"
   ]
  },
  {
   "cell_type": "markdown",
   "id": "05a67cd4",
   "metadata": {},
   "source": [
    "<h2>Correlation Matrix</h2>"
   ]
  },
  {
   "cell_type": "code",
   "execution_count": 7,
   "id": "1c2b61e7",
   "metadata": {},
   "outputs": [
    {
     "data": {
      "image/png": "[encoded data removed]",
      "text/plain": [
       "<Figure size 576x576 with 2 Axes>"
      ]
     },
     "metadata": {
      "needs_background": "light"
     },
     "output_type": "display_data"
    }
   ],
   "source": [
    "corr = carDF.corr()\n",
    "fig, ax = plt.subplots(figsize=(8, 8))\n",
    "sns.heatmap(corr, cmap='magma', annot=True, fmt=\".2f\")\n",
    "plt.xticks(range(len(corr.columns)), corr.columns);\n",
    "plt.yticks(range(len(corr.columns)), corr.columns)\n",
    "plt.show()"
   ]
  },
  {
   "cell_type": "markdown",
   "id": "2687032a",
   "metadata": {},
   "source": [
    "<h2>Car price chart</h2>"
   ]
  },
  {
   "cell_type": "code",
   "execution_count": 8,
   "id": "9a13725c",
   "metadata": {},
   "outputs": [
    {
     "name": "stderr",
     "output_type": "stream",
     "text": [
      "C:\\Users\\vohan\\anaconda3\\lib\\site-packages\\seaborn\\distributions.py:2557: FutureWarning: `distplot` is a deprecated function and will be removed in a future version. Please adapt your code to use either `displot` (a figure-level function with similar flexibility) or `histplot` (an axes-level function for histograms).\n",
      "  warnings.warn(msg, FutureWarning)\n"
     ]
    },
    {
     "data": {
      "image/png": "[encoded data removed]",
      "text/plain": [
       "<Figure size 432x288 with 1 Axes>"
      ]
     },
     "metadata": {
      "needs_background": "light"
     },
     "output_type": "display_data"
    }
   ],
   "source": [
    "carPLOT=pd.read_csv(\"./ToyotaCorolla.csv\",encoding=\"utf-8\")\n",
    "import seaborn as sns\n",
    "sns.distplot(carPLOT['Price']);"
   ]
  },
  {
   "cell_type": "code",
   "execution_count": 9,
   "id": "837a0de3",
   "metadata": {},
   "outputs": [
    {
     "data": {
      "text/plain": [
       "Text(0.5, 1.0, 'Relationship between Price and Age')"
      ]
     },
     "execution_count": 9,
     "metadata": {},
     "output_type": "execute_result"
    },
    {
     "data": {
      "image/png": "[encoded data removed]",
      "text/plain": [
       "<Figure size 432x288 with 1 Axes>"
      ]
     },
     "metadata": {
      "needs_background": "light"
     },
     "output_type": "display_data"
    }
   ],
   "source": [
    "sns.regplot(y=\"Price\", x=\"Age\", data=carPLOT, fit_reg = True)\n",
    "plt.title(\"Relationship between Price and Age\")"
   ]
  },
  {
   "cell_type": "code",
   "execution_count": 10,
   "id": "0c9fe015",
   "metadata": {},
   "outputs": [
    {
     "data": {
      "text/plain": [
       "Text(0.5, 1.0, 'Relationship between Price and KM')"
      ]
     },
     "execution_count": 10,
     "metadata": {},
     "output_type": "execute_result"
    },
    {
     "data": {
      "image/png": "[encoded data removed]",
      "text/plain": [
       "<Figure size 432x288 with 1 Axes>"
      ]
     },
     "metadata": {
      "needs_background": "light"
     },
     "output_type": "display_data"
    }
   ],
   "source": [
    "sns.regplot(y=\"Price\", x=\"KM\", data=carPLOT, fit_reg = True)\n",
    "plt.title(\"Relationship between Price and KM\")"
   ]
  },
  {
   "cell_type": "code",
   "execution_count": 11,
   "id": "7876202d",
   "metadata": {},
   "outputs": [
    {
     "data": {
      "text/plain": [
       "Text(0.5, 1.0, 'Relationship between Price and weight')"
      ]
     },
     "execution_count": 11,
     "metadata": {},
     "output_type": "execute_result"
    },
    {
     "data": {
      "image/png": "[encoded data removed]",
      "text/plain": [
       "<Figure size 432x288 with 1 Axes>"
      ]
     },
     "metadata": {
      "needs_background": "light"
     },
     "output_type": "display_data"
    }
   ],
   "source": [
    "sns.regplot(y=\"Price\", x=\"Weight\", data=carPLOT, fit_reg = True)\n",
    "plt.title(\"Relationship between Price and weight\")"
   ]
  },
  {
   "cell_type": "code",
   "execution_count": 12,
   "id": "e2477747",
   "metadata": {},
   "outputs": [
    {
     "data": {
      "text/html": [
       "<div>\n",
       "<style scoped>\n",
       "    .dataframe tbody tr th:only-of-type {\n",
       "        vertical-align: middle;\n",
       "    }\n",
       "\n",
       "    .dataframe tbody tr th {\n",
       "        vertical-align: top;\n",
       "    }\n",
       "\n",
       "    .dataframe thead th {\n",
       "        text-align: right;\n",
       "    }\n",
       "</style>\n",
       "<table border=\"1\" class=\"dataframe\">\n",
       "  <thead>\n",
       "    <tr style=\"text-align: right;\">\n",
       "      <th></th>\n",
       "      <th>Price</th>\n",
       "      <th>Age</th>\n",
       "      <th>KM</th>\n",
       "      <th>HP</th>\n",
       "      <th>MetColor</th>\n",
       "      <th>Automatic</th>\n",
       "      <th>CC</th>\n",
       "      <th>Doors</th>\n",
       "      <th>Weight</th>\n",
       "      <th>FuelType_CNG</th>\n",
       "      <th>FuelType_Diesel</th>\n",
       "      <th>FuelType_Petrol</th>\n",
       "    </tr>\n",
       "  </thead>\n",
       "  <tbody>\n",
       "    <tr>\n",
       "      <th>0</th>\n",
       "      <td>13500</td>\n",
       "      <td>23</td>\n",
       "      <td>46986</td>\n",
       "      <td>90</td>\n",
       "      <td>1</td>\n",
       "      <td>0</td>\n",
       "      <td>2000</td>\n",
       "      <td>3</td>\n",
       "      <td>1165</td>\n",
       "      <td>0</td>\n",
       "      <td>1</td>\n",
       "      <td>0</td>\n",
       "    </tr>\n",
       "    <tr>\n",
       "      <th>1</th>\n",
       "      <td>13750</td>\n",
       "      <td>23</td>\n",
       "      <td>72937</td>\n",
       "      <td>90</td>\n",
       "      <td>1</td>\n",
       "      <td>0</td>\n",
       "      <td>2000</td>\n",
       "      <td>3</td>\n",
       "      <td>1165</td>\n",
       "      <td>0</td>\n",
       "      <td>1</td>\n",
       "      <td>0</td>\n",
       "    </tr>\n",
       "    <tr>\n",
       "      <th>2</th>\n",
       "      <td>13950</td>\n",
       "      <td>24</td>\n",
       "      <td>41711</td>\n",
       "      <td>90</td>\n",
       "      <td>1</td>\n",
       "      <td>0</td>\n",
       "      <td>2000</td>\n",
       "      <td>3</td>\n",
       "      <td>1165</td>\n",
       "      <td>0</td>\n",
       "      <td>1</td>\n",
       "      <td>0</td>\n",
       "    </tr>\n",
       "    <tr>\n",
       "      <th>3</th>\n",
       "      <td>14950</td>\n",
       "      <td>26</td>\n",
       "      <td>48000</td>\n",
       "      <td>90</td>\n",
       "      <td>0</td>\n",
       "      <td>0</td>\n",
       "      <td>2000</td>\n",
       "      <td>3</td>\n",
       "      <td>1165</td>\n",
       "      <td>0</td>\n",
       "      <td>1</td>\n",
       "      <td>0</td>\n",
       "    </tr>\n",
       "    <tr>\n",
       "      <th>4</th>\n",
       "      <td>13750</td>\n",
       "      <td>30</td>\n",
       "      <td>38500</td>\n",
       "      <td>90</td>\n",
       "      <td>0</td>\n",
       "      <td>0</td>\n",
       "      <td>2000</td>\n",
       "      <td>3</td>\n",
       "      <td>1170</td>\n",
       "      <td>0</td>\n",
       "      <td>1</td>\n",
       "      <td>0</td>\n",
       "    </tr>\n",
       "    <tr>\n",
       "      <th>...</th>\n",
       "      <td>...</td>\n",
       "      <td>...</td>\n",
       "      <td>...</td>\n",
       "      <td>...</td>\n",
       "      <td>...</td>\n",
       "      <td>...</td>\n",
       "      <td>...</td>\n",
       "      <td>...</td>\n",
       "      <td>...</td>\n",
       "      <td>...</td>\n",
       "      <td>...</td>\n",
       "      <td>...</td>\n",
       "    </tr>\n",
       "    <tr>\n",
       "      <th>1431</th>\n",
       "      <td>7500</td>\n",
       "      <td>69</td>\n",
       "      <td>20544</td>\n",
       "      <td>86</td>\n",
       "      <td>1</td>\n",
       "      <td>0</td>\n",
       "      <td>1300</td>\n",
       "      <td>3</td>\n",
       "      <td>1025</td>\n",
       "      <td>0</td>\n",
       "      <td>0</td>\n",
       "      <td>1</td>\n",
       "    </tr>\n",
       "    <tr>\n",
       "      <th>1432</th>\n",
       "      <td>10845</td>\n",
       "      <td>72</td>\n",
       "      <td>19000</td>\n",
       "      <td>86</td>\n",
       "      <td>0</td>\n",
       "      <td>0</td>\n",
       "      <td>1300</td>\n",
       "      <td>3</td>\n",
       "      <td>1015</td>\n",
       "      <td>0</td>\n",
       "      <td>0</td>\n",
       "      <td>1</td>\n",
       "    </tr>\n",
       "    <tr>\n",
       "      <th>1433</th>\n",
       "      <td>8500</td>\n",
       "      <td>71</td>\n",
       "      <td>17016</td>\n",
       "      <td>86</td>\n",
       "      <td>0</td>\n",
       "      <td>0</td>\n",
       "      <td>1300</td>\n",
       "      <td>3</td>\n",
       "      <td>1015</td>\n",
       "      <td>0</td>\n",
       "      <td>0</td>\n",
       "      <td>1</td>\n",
       "    </tr>\n",
       "    <tr>\n",
       "      <th>1434</th>\n",
       "      <td>7250</td>\n",
       "      <td>70</td>\n",
       "      <td>16916</td>\n",
       "      <td>86</td>\n",
       "      <td>1</td>\n",
       "      <td>0</td>\n",
       "      <td>1300</td>\n",
       "      <td>3</td>\n",
       "      <td>1015</td>\n",
       "      <td>0</td>\n",
       "      <td>0</td>\n",
       "      <td>1</td>\n",
       "    </tr>\n",
       "    <tr>\n",
       "      <th>1435</th>\n",
       "      <td>6950</td>\n",
       "      <td>76</td>\n",
       "      <td>1</td>\n",
       "      <td>110</td>\n",
       "      <td>0</td>\n",
       "      <td>0</td>\n",
       "      <td>1600</td>\n",
       "      <td>5</td>\n",
       "      <td>1114</td>\n",
       "      <td>0</td>\n",
       "      <td>0</td>\n",
       "      <td>1</td>\n",
       "    </tr>\n",
       "  </tbody>\n",
       "</table>\n",
       "<p>1436 rows × 12 columns</p>\n",
       "</div>"
      ],
      "text/plain": [
       "      Price  Age     KM   HP  MetColor  Automatic    CC  Doors  Weight  \\\n",
       "0     13500   23  46986   90         1          0  2000      3    1165   \n",
       "1     13750   23  72937   90         1          0  2000      3    1165   \n",
       "2     13950   24  41711   90         1          0  2000      3    1165   \n",
       "3     14950   26  48000   90         0          0  2000      3    1165   \n",
       "4     13750   30  38500   90         0          0  2000      3    1170   \n",
       "...     ...  ...    ...  ...       ...        ...   ...    ...     ...   \n",
       "1431   7500   69  20544   86         1          0  1300      3    1025   \n",
       "1432  10845   72  19000   86         0          0  1300      3    1015   \n",
       "1433   8500   71  17016   86         0          0  1300      3    1015   \n",
       "1434   7250   70  16916   86         1          0  1300      3    1015   \n",
       "1435   6950   76      1  110         0          0  1600      5    1114   \n",
       "\n",
       "      FuelType_CNG  FuelType_Diesel  FuelType_Petrol  \n",
       "0                0                1                0  \n",
       "1                0                1                0  \n",
       "2                0                1                0  \n",
       "3                0                1                0  \n",
       "4                0                1                0  \n",
       "...            ...              ...              ...  \n",
       "1431             0                0                1  \n",
       "1432             0                0                1  \n",
       "1433             0                0                1  \n",
       "1434             0                0                1  \n",
       "1435             0                0                1  \n",
       "\n",
       "[1436 rows x 12 columns]"
      ]
     },
     "execution_count": 12,
     "metadata": {},
     "output_type": "execute_result"
    }
   ],
   "source": [
    "carDF = pd.get_dummies(carDF)\n",
    "carDF"
   ]
  },
  {
   "cell_type": "code",
   "execution_count": 13,
   "id": "a25bc20c",
   "metadata": {},
   "outputs": [],
   "source": [
    "carDF.to_csv(\"carDF.csv\",index=False)"
   ]
  },
  {
   "cell_type": "code",
   "execution_count": 14,
   "id": "b90f2f8b",
   "metadata": {},
   "outputs": [
    {
     "name": "stdout",
     "output_type": "stream",
     "text": [
      "+-----+---+-----+---+--------+---------+----+-----+------+------------+---------------+---------------+\n",
      "|Price|Age|   KM| HP|MetColor|Automatic|  CC|Doors|Weight|FuelType_CNG|FuelType_Diesel|FuelType_Petrol|\n",
      "+-----+---+-----+---+--------+---------+----+-----+------+------------+---------------+---------------+\n",
      "|13500| 23|46986| 90|       1|        0|2000|    3|  1165|           0|              1|              0|\n",
      "|13750| 23|72937| 90|       1|        0|2000|    3|  1165|           0|              1|              0|\n",
      "|13950| 24|41711| 90|       1|        0|2000|    3|  1165|           0|              1|              0|\n",
      "|14950| 26|48000| 90|       0|        0|2000|    3|  1165|           0|              1|              0|\n",
      "|13750| 30|38500| 90|       0|        0|2000|    3|  1170|           0|              1|              0|\n",
      "|12950| 32|61000| 90|       0|        0|2000|    3|  1170|           0|              1|              0|\n",
      "|16900| 27|94612| 90|       1|        0|2000|    3|  1245|           0|              1|              0|\n",
      "|18600| 30|75889| 90|       1|        0|2000|    3|  1245|           0|              1|              0|\n",
      "|21500| 27|19700|192|       0|        0|1800|    3|  1185|           0|              0|              1|\n",
      "|12950| 23|71138| 69|       0|        0|1900|    3|  1105|           0|              1|              0|\n",
      "|20950| 25|31461|192|       0|        0|1800|    3|  1185|           0|              0|              1|\n",
      "|19950| 22|43610|192|       0|        0|1800|    3|  1185|           0|              0|              1|\n",
      "|19600| 25|32189|192|       0|        0|1800|    3|  1185|           0|              0|              1|\n",
      "|21500| 31|23000|192|       1|        0|1800|    3|  1185|           0|              0|              1|\n",
      "|22500| 32|34131|192|       1|        0|1800|    3|  1185|           0|              0|              1|\n",
      "|22000| 28|18739|192|       0|        0|1800|    3|  1185|           0|              0|              1|\n",
      "|22750| 30|34000|192|       1|        0|1800|    3|  1185|           0|              0|              1|\n",
      "|17950| 24|21716|110|       1|        0|1600|    3|  1105|           0|              0|              1|\n",
      "|16750| 24|25563|110|       0|        0|1600|    3|  1065|           0|              0|              1|\n",
      "|16950| 30|64359|110|       1|        0|1600|    3|  1105|           0|              0|              1|\n",
      "+-----+---+-----+---+--------+---------+----+-----+------+------------+---------------+---------------+\n",
      "only showing top 20 rows\n",
      "\n"
     ]
    }
   ],
   "source": [
    "carDF = (spark.read.option(\"HEADER\", True).option(\"inferSchema\", True).csv(\"./carDF.csv\"))\n",
    "carDF.show()"
   ]
  },
  {
   "cell_type": "markdown",
   "id": "352e789d",
   "metadata": {},
   "source": [
    "<h2>Divide data into Train set and Test set</h2>"
   ]
  },
  {
   "cell_type": "code",
   "execution_count": 15,
   "id": "42975f09",
   "metadata": {},
   "outputs": [
    {
     "name": "stdout",
     "output_type": "stream",
     "text": [
      "+--------------------+-----+\n",
      "|            features|Price|\n",
      "+--------------------+-----+\n",
      "|[44.0,158320.0,0....| 4350|\n",
      "|[74.0,203254.0,1....| 4400|\n",
      "|[56.0,129155.0,0....| 4450|\n",
      "+--------------------+-----+\n",
      "only showing top 3 rows\n",
      "\n"
     ]
    }
   ],
   "source": [
    "from pyspark.ml.feature import VectorAssembler\n",
    "trainDF, testDF = carDF.randomSplit([.8, .2], seed=100)\n",
    "assembler = VectorAssembler(inputCols=[\"Age\", \"KM\", \"MetColor\", \"Automatic\" ,\"HP\", \"CC\", \"Doors\", \"Weight\", \"FuelType_CNG\", \"FuelType_Diesel\", \"FuelType_Petrol\"],outputCol='features')\n",
    "assembler_train = assembler.setHandleInvalid(\"skip\").transform(trainDF)\n",
    "final_train = assembler_train.select('features','Price')\n",
    "final_train.show(3)"
   ]
  },
  {
   "cell_type": "markdown",
   "id": "4245a5db",
   "metadata": {},
   "source": [
    "<h3>My Train set</h3>"
   ]
  },
  {
   "cell_type": "code",
   "execution_count": 16,
   "id": "f9bac10b",
   "metadata": {},
   "outputs": [
    {
     "name": "stdout",
     "output_type": "stream",
     "text": [
      "+-----+---+-----+---+--------+---------+----+-----+------+------------+---------------+---------------+\n",
      "|Price|Age|   KM| HP|MetColor|Automatic|  CC|Doors|Weight|FuelType_CNG|FuelType_Diesel|FuelType_Petrol|\n",
      "+-----+---+-----+---+--------+---------+----+-----+------+------------+---------------+---------------+\n",
      "|32500|  4|    1|116|       0|        0|2000|    5|  1480|           0|              1|              0|\n",
      "|31275|  4| 1500|116|       1|        0|2000|    5|  1480|           0|              1|              0|\n",
      "|31000|  4| 4000|116|       1|        0|2000|    5|  1480|           0|              1|              0|\n",
      "|24990|  8| 6000| 90|       1|        0|2000|    5|  1280|           0|              1|              0|\n",
      "|24950|  8|13253|116|       1|        0|2000|    5|  1320|           0|              1|              0|\n",
      "|24950|  8|13253|116|       1|        0|2000|    5|  1320|           0|              1|              0|\n",
      "|24500| 13|19988|110|       1|        0|1600|    5|  1130|           0|              0|              1|\n",
      "|23750|  8|11000|110|       1|        0|1600|    5|  1130|           0|              0|              1|\n",
      "|23000| 11|25000|116|       1|        0|2000|    5|  1320|           0|              1|              0|\n",
      "|22950|  7|10000|116|       1|        0|2000|    5|  1270|           0|              1|              0|\n",
      "|22750| 30|34000|192|       1|        0|1800|    3|  1185|           0|              0|              1|\n",
      "|22500|  6| 3000|110|       0|        0|1600|    5|  1130|           0|              0|              1|\n",
      "|22250| 20|37500| 90|       1|        0|2000|    3|  1260|           0|              1|              0|\n",
      "|22250| 22|30000|110|       1|        0|2000|    5|  1275|           0|              1|              0|\n",
      "|22250| 17|57313|110|       1|        0|2000|    5|  1275|           0|              1|              0|\n",
      "|21950|  8| 9788|110|       1|        0|1600|    5|  1130|           0|              0|              1|\n",
      "|21950|  8|10841| 90|       1|        0|2000|    5|  1270|           0|              1|              0|\n",
      "|21950|  8| 5000|110|       1|        0|1600|    5|  1130|           0|              0|              1|\n",
      "|21750| 13|13178|110|       1|        0|1600|    5|  1130|           0|              0|              1|\n",
      "|21500|  2|   15|110|       1|        0|1600|    5|  1130|           0|              0|              1|\n",
      "+-----+---+-----+---+--------+---------+----+-----+------+------------+---------------+---------------+\n",
      "only showing top 20 rows\n",
      "\n"
     ]
    }
   ],
   "source": [
    "trainDF.sort(trainDF.Price.desc()).show()"
   ]
  },
  {
   "cell_type": "markdown",
   "id": "d7d1e0b2",
   "metadata": {},
   "source": [
    "<h3>My Test Set</h3>"
   ]
  },
  {
   "cell_type": "code",
   "execution_count": 17,
   "id": "4769bdea",
   "metadata": {},
   "outputs": [
    {
     "name": "stdout",
     "output_type": "stream",
     "text": [
      "+-----+---+-----+---+--------+---------+----+-----+------+------------+---------------+---------------+\n",
      "|Price|Age|   KM| HP|MetColor|Automatic|  CC|Doors|Weight|FuelType_CNG|FuelType_Diesel|FuelType_Petrol|\n",
      "+-----+---+-----+---+--------+---------+----+-----+------+------------+---------------+---------------+\n",
      "|23950| 19|21684|192|       1|        0|1800|    5|  1185|           0|              0|              1|\n",
      "|22500| 32|34131|192|       1|        0|1800|    3|  1185|           0|              0|              1|\n",
      "|22000| 28|18739|192|       0|        0|1800|    3|  1185|           0|              0|              1|\n",
      "|21950| 19|50005|110|       1|        0|2000|    3|  1265|           0|              1|              0|\n",
      "|21950| 31|64982|192|       1|        0|1800|    5|  1195|           0|              0|              1|\n",
      "|21950| 27|49866|192|       1|        0|1800|    5|  1195|           0|              0|              1|\n",
      "|21750| 16|36000|110|       1|        0|1600|    5|  1130|           0|              0|              1|\n",
      "|21500| 31|23000|192|       1|        0|1800|    3|  1185|           0|              0|              1|\n",
      "|20950| 14| 5278|110|       1|        1|1600|    4|  1150|           0|              0|              1|\n",
      "|19950| 22|43610|192|       0|        0|1800|    3|  1185|           0|              0|              1|\n",
      "|19750| 17|11999|110|       1|        0|1600|    5|  1130|           0|              0|              1|\n",
      "|19500|  8|10077| 97|       1|        0|1400|    5|  1110|           0|              0|              1|\n",
      "|19450| 11|14635|110|       1|        1|1600|    3|  1155|           0|              0|              1|\n",
      "|18950| 13|57037|110|       0|        0|1600|    5|  1115|           0|              0|              1|\n",
      "|18950|  8|10000| 97|       1|        0|1400|    5|  1110|           0|              0|              1|\n",
      "|18950| 28|28817|110|       1|        0|1598|    5|  1130|           0|              0|              1|\n",
      "|18750| 11|24500|110|       1|        0|1600|    3|  1120|           0|              0|              1|\n",
      "|18500|  7| 2000|110|       0|        0|1600|    5|  1075|           0|              0|              1|\n",
      "|18450| 19|27371| 97|       0|        0|1400|    5|  1135|           0|              0|              1|\n",
      "|18450| 27|23489|110|       0|        0|1600|    5|  1115|           0|              0|              1|\n",
      "+-----+---+-----+---+--------+---------+----+-----+------+------------+---------------+---------------+\n",
      "only showing top 20 rows\n",
      "\n"
     ]
    }
   ],
   "source": [
    "testDF.sort(testDF.Price.desc()).show()"
   ]
  },
  {
   "cell_type": "markdown",
   "id": "281b79c3",
   "metadata": {},
   "source": [
    "<h1>Create Pipline and Build All Model</h1>"
   ]
  },
  {
   "cell_type": "code",
   "execution_count": 18,
   "id": "bbd16eaf",
   "metadata": {},
   "outputs": [],
   "source": [
    "from pyspark.ml.regression import LinearRegression\n",
    "lr = LinearRegression(featuresCol = 'features', labelCol='Price')"
   ]
  },
  {
   "cell_type": "code",
   "execution_count": 19,
   "id": "05f1a2d1",
   "metadata": {},
   "outputs": [],
   "source": [
    "from pyspark.ml.regression import DecisionTreeRegressor\n",
    "dt = DecisionTreeRegressor(featuresCol = 'features', labelCol='Price')"
   ]
  },
  {
   "cell_type": "code",
   "execution_count": 20,
   "id": "b5ca8585",
   "metadata": {},
   "outputs": [],
   "source": [
    "from pyspark.ml.regression import RandomForestRegressor\n",
    "rfr = RandomForestRegressor(featuresCol = 'features', labelCol='Price', maxDepth=10, numTrees=100)"
   ]
  },
  {
   "cell_type": "code",
   "execution_count": 21,
   "id": "bc4902cf",
   "metadata": {},
   "outputs": [],
   "source": [
    "from pyspark.ml.regression import GBTRegressor\n",
    "gbt = GBTRegressor(featuresCol = 'features', labelCol='Price')"
   ]
  },
  {
   "cell_type": "code",
   "execution_count": 22,
   "id": "b82b244c",
   "metadata": {},
   "outputs": [
    {
     "name": "stdout",
     "output_type": "stream",
     "text": [
      "+------------------+-----+--------------------+\n",
      "|        prediction|Price|            features|\n",
      "+------------------+-----+--------------------+\n",
      "|11221.089147924416| 4750|[44.0,131273.0,1....|\n",
      "| 5796.419360413697| 5750|[76.0,183277.0,0....|\n",
      "| 6457.407290332073| 5900|[73.0,232940.0,0....|\n",
      "| 6847.738283644322| 5950|[72.0,105856.0,0....|\n",
      "| 6626.694761679699| 5950|[78.0,82595.0,1.0...|\n",
      "+------------------+-----+--------------------+\n",
      "only showing top 5 rows\n",
      "\n",
      "Root Mean Squared Error (RMSE) on test data = 1374.12\n",
      "R Squared (R^2) on test data = 0.86507\n",
      "+-----------------+-----+--------------------+\n",
      "|       prediction|Price|            features|\n",
      "+-----------------+-----+--------------------+\n",
      "|           9200.0| 4750|[44.0,131273.0,1....|\n",
      "|           7605.0| 5750|[76.0,183277.0,0....|\n",
      "|           7605.0| 5900|[73.0,232940.0,0....|\n",
      "|7986.563451776649| 5950|[72.0,105856.0,0....|\n",
      "|7986.563451776649| 5950|[78.0,82595.0,1.0...|\n",
      "+-----------------+-----+--------------------+\n",
      "only showing top 5 rows\n",
      "\n",
      "Root Mean Squared Error (RMSE) on test data = 1375.76\n",
      "R Squared (R^2) on test data = 0.864748\n",
      "+-----------------+-----+--------------------+\n",
      "|       prediction|Price|            features|\n",
      "+-----------------+-----+--------------------+\n",
      "|8599.465161064427| 4750|[44.0,131273.0,1....|\n",
      "| 7392.28891699705| 5750|[76.0,183277.0,0....|\n",
      "|7327.085749077316| 5900|[73.0,232940.0,0....|\n",
      "|7783.124640618502| 5950|[72.0,105856.0,0....|\n",
      "|7640.049201769221| 5950|[78.0,82595.0,1.0...|\n",
      "+-----------------+-----+--------------------+\n",
      "only showing top 5 rows\n",
      "\n",
      "Root Mean Squared Error (RMSE) on test data = 1276.23\n",
      "R Squared (R^2) on test data = 0.883609\n",
      "+------------------+-----+--------------------+\n",
      "|        prediction|Price|            features|\n",
      "+------------------+-----+--------------------+\n",
      "| 7964.941461411969| 4750|[44.0,131273.0,1....|\n",
      "|7271.2698392561515| 5750|[76.0,183277.0,0....|\n",
      "| 7419.321055803978| 5900|[73.0,232940.0,0....|\n",
      "| 8231.533138751802| 5950|[72.0,105856.0,0....|\n",
      "| 7608.011043761876| 5950|[78.0,82595.0,1.0...|\n",
      "+------------------+-----+--------------------+\n",
      "only showing top 5 rows\n",
      "\n",
      "Root Mean Squared Error (RMSE) on test data = 1298.94\n",
      "R Squared (R^2) on test data = 0.87943\n"
     ]
    }
   ],
   "source": [
    "from pyspark.ml import Pipeline\n",
    "from pyspark.ml.evaluation import RegressionEvaluator\n",
    "from pyspark.ml.linalg import Vectors\n",
    "from pyspark.ml.feature import StringIndexer, VectorIndexer, IndexToString\n",
    "stages_ = [lr, dt, rfr, gbt]\n",
    "for stage in stages_:\n",
    "    \n",
    "    #build pipeline for each method\n",
    "    pipeline = Pipeline(stages=[assembler, stage])\n",
    "\n",
    "    model = pipeline.fit(trainDF)\n",
    "    \n",
    "    # predict and evaluate model\n",
    "\n",
    "    predictions = model.transform(testDF)\n",
    "\n",
    "    predictions.select(\"prediction\",\"Price\", \"features\").show(5)\n",
    "\n",
    "    evaluator = RegressionEvaluator(labelCol=\"Price\", predictionCol=\"prediction\", metricName=\"rmse\")\n",
    "\n",
    "    # RMSE\n",
    "    rmse = evaluator.evaluate(predictions)\n",
    "    print(\"Root Mean Squared Error (RMSE) on test data = %g\" % rmse)\n",
    "\n",
    "    # R squared\n",
    "    r2 = evaluator.evaluate(predictions, {evaluator.metricName: \"r2\"})\n",
    "    print(\"R Squared (R^2) on test data = %g\" % r2)"
   ]
  },
  {
   "cell_type": "markdown",
   "id": "fd579e9a",
   "metadata": {},
   "source": [
    "<h1>Hyperparameter Tuning</h1>"
   ]
  },
  {
   "cell_type": "code",
   "execution_count": 23,
   "id": "889e26f9",
   "metadata": {},
   "outputs": [],
   "source": [
    "maxDepth = []\n",
    "for i in range(1,30):\n",
    "  maxDepth.append(i)"
   ]
  },
  {
   "cell_type": "markdown",
   "id": "c9c15162",
   "metadata": {},
   "source": [
    "<h2>LINEAR REGRESSION</h2>"
   ]
  },
  {
   "cell_type": "code",
   "execution_count": 24,
   "id": "7c086cab",
   "metadata": {},
   "outputs": [
    {
     "name": "stdout",
     "output_type": "stream",
     "text": [
      "                                           Regression         RMSE\n",
      "0   {LinearRegression_9f3bb756c9ad__regParam: 0.01...  1375.558373\n",
      "3   {LinearRegression_9f3bb756c9ad__regParam: 0.05...  1375.561730\n",
      "6   {LinearRegression_9f3bb756c9ad__regParam: 0.1,...  1375.565924\n",
      "5   {LinearRegression_9f3bb756c9ad__regParam: 0.05...  1375.588188\n",
      "9   {LinearRegression_9f3bb756c9ad__regParam: 0.5,...  1375.599429\n",
      "4   {LinearRegression_9f3bb756c9ad__regParam: 0.05...  1375.609661\n",
      "8   {LinearRegression_9f3bb756c9ad__regParam: 0.1,...  1375.613451\n",
      "12  {LinearRegression_9f3bb756c9ad__regParam: 1.0,...  1375.641177\n",
      "2   {LinearRegression_9f3bb756c9ad__regParam: 0.01...  1375.785147\n",
      "11  {LinearRegression_9f3bb756c9ad__regParam: 0.5,...  1375.791567\n",
      "1   {LinearRegression_9f3bb756c9ad__regParam: 0.01...  1375.805271\n",
      "7   {LinearRegression_9f3bb756c9ad__regParam: 0.1,...  1375.875272\n",
      "10  {LinearRegression_9f3bb756c9ad__regParam: 0.5,...  1376.031699\n",
      "14  {LinearRegression_9f3bb756c9ad__regParam: 1.0,...  1376.067334\n",
      "13  {LinearRegression_9f3bb756c9ad__regParam: 1.0,...  1376.504378\n"
     ]
    }
   ],
   "source": [
    "from pyspark.ml.tuning import CrossValidator\n",
    "from pyspark.ml.tuning import ParamGridBuilder\n",
    "\n",
    "paramGrid_lr = ParamGridBuilder().addGrid(lr.regParam, [0.01, 0.05,0.1,0.5,1]).addGrid(lr.elasticNetParam, [0, 1,0.5]).build()\n",
    "evaluator = RegressionEvaluator(labelCol=\"Price\", predictionCol=\"prediction\", metricName='rmse')\n",
    "pipeline = Pipeline(stages=[assembler, lr])\n",
    "cv = CrossValidator(estimator=pipeline,evaluator = evaluator,estimatorParamMaps = paramGrid_lr,numFolds=3,seed=42)\n",
    "# fit on Trainset\n",
    "Model = cv.fit(trainDF)\n",
    "print(pd.DataFrame(list(zip(Model.getEstimatorParamMaps(), Model.avgMetrics)),columns=['Regression','RMSE']).sort_values(by=\"RMSE\"))"
   ]
  },
  {
   "cell_type": "markdown",
   "id": "232f46ab",
   "metadata": {},
   "source": [
    "<h2>Decision Tree</h2>"
   ]
  },
  {
   "cell_type": "code",
   "execution_count": 25,
   "id": "f90a6c3d",
   "metadata": {},
   "outputs": [
    {
     "name": "stdout",
     "output_type": "stream",
     "text": [
      "                                           Regression         RMSE\n",
      "5   {DecisionTreeRegressor_6e2e63601104__maxDepth: 6}  1290.550730\n",
      "4   {DecisionTreeRegressor_6e2e63601104__maxDepth: 5}  1318.186777\n",
      "6   {DecisionTreeRegressor_6e2e63601104__maxDepth: 7}  1369.406350\n",
      "3   {DecisionTreeRegressor_6e2e63601104__maxDepth: 4}  1384.694899\n",
      "7   {DecisionTreeRegressor_6e2e63601104__maxDepth: 8}  1392.790291\n",
      "8   {DecisionTreeRegressor_6e2e63601104__maxDepth: 9}  1436.906139\n",
      "9   {DecisionTreeRegressor_6e2e63601104__maxDepth:...  1485.760550\n",
      "2   {DecisionTreeRegressor_6e2e63601104__maxDepth: 3}  1505.825738\n",
      "10  {DecisionTreeRegressor_6e2e63601104__maxDepth:...  1524.077031\n",
      "11  {DecisionTreeRegressor_6e2e63601104__maxDepth:...  1545.317329\n",
      "12  {DecisionTreeRegressor_6e2e63601104__maxDepth:...  1563.158556\n",
      "13  {DecisionTreeRegressor_6e2e63601104__maxDepth:...  1569.128164\n",
      "14  {DecisionTreeRegressor_6e2e63601104__maxDepth:...  1578.471638\n",
      "15  {DecisionTreeRegressor_6e2e63601104__maxDepth:...  1581.830552\n",
      "17  {DecisionTreeRegressor_6e2e63601104__maxDepth:...  1583.656277\n",
      "16  {DecisionTreeRegressor_6e2e63601104__maxDepth:...  1583.944535\n",
      "18  {DecisionTreeRegressor_6e2e63601104__maxDepth:...  1584.586770\n",
      "19  {DecisionTreeRegressor_6e2e63601104__maxDepth:...  1585.718082\n",
      "20  {DecisionTreeRegressor_6e2e63601104__maxDepth:...  1585.835029\n",
      "21  {DecisionTreeRegressor_6e2e63601104__maxDepth:...  1586.011775\n",
      "26  {DecisionTreeRegressor_6e2e63601104__maxDepth:...  1586.215690\n",
      "25  {DecisionTreeRegressor_6e2e63601104__maxDepth:...  1586.215690\n",
      "24  {DecisionTreeRegressor_6e2e63601104__maxDepth:...  1586.215690\n",
      "28  {DecisionTreeRegressor_6e2e63601104__maxDepth:...  1586.215690\n",
      "27  {DecisionTreeRegressor_6e2e63601104__maxDepth:...  1586.215690\n",
      "23  {DecisionTreeRegressor_6e2e63601104__maxDepth:...  1586.215690\n",
      "22  {DecisionTreeRegressor_6e2e63601104__maxDepth:...  1586.248153\n",
      "1   {DecisionTreeRegressor_6e2e63601104__maxDepth: 2}  1753.634222\n",
      "0   {DecisionTreeRegressor_6e2e63601104__maxDepth: 1}  2176.847088\n"
     ]
    }
   ],
   "source": [
    "from pyspark.ml.tuning import CrossValidator\n",
    "from pyspark.ml.tuning import ParamGridBuilder\n",
    "\n",
    "paramGrid_dt = (ParamGridBuilder().addGrid(dt.maxDepth, maxDepth).build())\n",
    "# evaluate model by R2\n",
    "evaluator = RegressionEvaluator(labelCol=\"Price\", predictionCol=\"prediction\", metricName='rmse')\n",
    "\n",
    "pipeline = Pipeline(stages=[assembler, dt])\n",
    "\n",
    "cv = CrossValidator(estimator=pipeline,evaluator = evaluator,\n",
    "                    estimatorParamMaps = paramGrid_dt,\n",
    "                    numFolds=3,seed=42)\n",
    "\n",
    "# fit on TrainDF\n",
    "dt.setMaxBins(40)\n",
    "\n",
    "Model = cv.fit(trainDF)\n",
    "\n",
    "print(pd.DataFrame(list(zip(Model.getEstimatorParamMaps(), Model.avgMetrics)) ,\n",
    "                     columns=['Regression','RMSE']).sort_values(by=\"RMSE\"))"
   ]
  },
  {
   "cell_type": "markdown",
   "id": "7750fb82",
   "metadata": {},
   "source": [
    "<h2>Random Forest</h2>"
   ]
  },
  {
   "cell_type": "markdown",
   "id": "348b3b65",
   "metadata": {},
   "source": [
    "- In the hyperparameter is the numtree below which can give from 10 to 160 if your hardware is good. However, due to my hardware limitations, I only ran from 50 to 70 in this range RMSE of the random forest in our model gave a pretty good value (since I ran it through once 10-160 it takes 36 hours)"
   ]
  },
  {
   "cell_type": "code",
   "execution_count": 26,
   "id": "0fa6a07c",
   "metadata": {},
   "outputs": [
    {
     "name": "stdout",
     "output_type": "stream",
     "text": [
      "                                           Regression         RMSE\n",
      "37  {RandomForestRegressor_8b0ece4ff16d__numTrees:...  1167.402435\n",
      "38  {RandomForestRegressor_8b0ece4ff16d__numTrees:...  1168.600814\n",
      "39  {RandomForestRegressor_8b0ece4ff16d__numTrees:...  1170.275319\n",
      "36  {RandomForestRegressor_8b0ece4ff16d__numTrees:...  1170.927181\n",
      "40  {RandomForestRegressor_8b0ece4ff16d__numTrees:...  1172.142394\n",
      "..                                                ...          ...\n",
      "30  {RandomForestRegressor_8b0ece4ff16d__numTrees:...  1865.485221\n",
      "0   {RandomForestRegressor_8b0ece4ff16d__numTrees:...  2369.149427\n",
      "29  {RandomForestRegressor_8b0ece4ff16d__numTrees:...  2373.757149\n",
      "58  {RandomForestRegressor_8b0ece4ff16d__numTrees:...  2377.949595\n",
      "87  {RandomForestRegressor_8b0ece4ff16d__numTrees:...  2409.427118\n",
      "\n",
      "[116 rows x 2 columns]\n"
     ]
    }
   ],
   "source": [
    "from pyspark.ml.tuning import CrossValidator\n",
    "from pyspark.ml.tuning import ParamGridBuilder\n",
    "\n",
    "paramGrid_rfr = ParamGridBuilder().addGrid(rfr.numTrees, [10,40,60,80,100,120,150,152,155,160]).addGrid(rfr.maxDepth, maxDepth).build()\n",
    "evaluator = RegressionEvaluator(labelCol=\"Price\", predictionCol=\"prediction\", metricName='rmse')\n",
    "\n",
    "pipeline = Pipeline(stages=[assembler, rfr])\n",
    "\n",
    "cv = CrossValidator(estimator=pipeline,evaluator = evaluator,\n",
    "                    estimatorParamMaps = paramGrid_rfr,\n",
    "                    numFolds=3,seed=42)  \n",
    "rfr.setMaxBins(40)\n",
    "rfr_model = cv.fit(trainDF)\n",
    "print(pd.DataFrame(list(zip(rfr_model.getEstimatorParamMaps(), rfr_model.avgMetrics)) ,\n",
    "                     columns=['Regression','RMSE']).sort_values(by=\"RMSE\"))"
   ]
  },
  {
   "cell_type": "code",
   "execution_count": 27,
   "id": "8683ca0f",
   "metadata": {},
   "outputs": [
    {
     "name": "stdout",
     "output_type": "stream",
     "text": [
      "numTrees: 152\n",
      "maxDepth: 9\n"
     ]
    }
   ],
   "source": [
    "best_pipeline =  rfr_model.bestModel \n",
    "rfr_best_model = best_pipeline.stages[1]\n",
    "print('numTrees:', rfr_best_model.getNumTrees)\n",
    "print('maxDepth:', rfr_best_model.getOrDefault('maxDepth'))"
   ]
  },
  {
   "cell_type": "markdown",
   "id": "75794aeb",
   "metadata": {},
   "source": [
    "<h2>Gradient Boosting Tree</h2>"
   ]
  },
  {
   "cell_type": "markdown",
   "id": "5cbcf0d2",
   "metadata": {},
   "source": [
    "- With gradient boosting tree I gave numtree from 10-100 but after one run (36 hours) I found numtree from 50-60 gives very good RMSE so I ran numtree 50-60 (due to my hardware condition there is limit). If your hardware is good I recommend running from 10-100 (distance between values is 1)"
   ]
  },
  {
   "cell_type": "code",
   "execution_count": 28,
   "id": "0f9da898",
   "metadata": {},
   "outputs": [
    {
     "name": "stdout",
     "output_type": "stream",
     "text": [
      "                                            Regression         RMSE\n",
      "14   {GBTRegressor_f7180c10bd8e__maxDepth: 3, GBTRe...  1172.370704\n",
      "13   {GBTRegressor_f7180c10bd8e__maxDepth: 3, GBTRe...  1172.778752\n",
      "15   {GBTRegressor_f7180c10bd8e__maxDepth: 3, GBTRe...  1173.207875\n",
      "16   {GBTRegressor_f7180c10bd8e__maxDepth: 3, GBTRe...  1174.496288\n",
      "12   {GBTRegressor_f7180c10bd8e__maxDepth: 3, GBTRe...  1174.994512\n",
      "..                                                 ...          ...\n",
      "103  {GBTRegressor_f7180c10bd8e__maxDepth: 18, GBTR...  1586.822182\n",
      "104  {GBTRegressor_f7180c10bd8e__maxDepth: 18, GBTR...  1586.822200\n",
      "105  {GBTRegressor_f7180c10bd8e__maxDepth: 18, GBTR...  1586.822211\n",
      "106  {GBTRegressor_f7180c10bd8e__maxDepth: 18, GBTR...  1586.822218\n",
      "107  {GBTRegressor_f7180c10bd8e__maxDepth: 18, GBTR...  1586.822221\n",
      "\n",
      "[174 rows x 2 columns]\n"
     ]
    }
   ],
   "source": [
    "from pyspark.ml.tuning import CrossValidator\n",
    "from pyspark.ml.tuning import ParamGridBuilder\n",
    "paramGrid_gbt = (ParamGridBuilder()\n",
    "                 .addGrid(gbt.maxDepth,maxDepth)\n",
    "                 .addGrid(gbt.maxIter, [10,40,50,54,58,60,80,100])\n",
    "                 .build())\n",
    "evaluator_gbt = RegressionEvaluator(labelCol=\"Price\", predictionCol=\"prediction\", metricName='rmse')\n",
    "pipeline = Pipeline(stages=[assembler, gbt])\n",
    "cv = CrossValidator(estimator=pipeline,evaluator = evaluator_gbt,\n",
    "                    estimatorParamMaps = paramGrid_gbt,\n",
    "                    numFolds=3,\n",
    "                    parallelism=4, seed=42)\n",
    "gbt.setMaxBins(40)\n",
    "gbt_model = cv.fit(trainDF)\n",
    "print(pd.DataFrame(list(zip(gbt_model.getEstimatorParamMaps(), gbt_model.avgMetrics)) ,\n",
    "                     columns=['Regression','RMSE']).sort_values(by=\"RMSE\"))"
   ]
  },
  {
   "cell_type": "code",
   "execution_count": 29,
   "id": "844eb2ac",
   "metadata": {},
   "outputs": [
    {
     "name": "stdout",
     "output_type": "stream",
     "text": [
      "numTrees: 54\n",
      "maxDepth: 3\n"
     ]
    }
   ],
   "source": [
    "best_pipeline =  gbt_model.bestModel \n",
    "gbt_best_model = best_pipeline.stages[1]\n",
    "print('numTrees:', gbt_best_model.getNumTrees)\n",
    "print('maxDepth:', gbt_best_model.getOrDefault('maxDepth'))"
   ]
  },
  {
   "cell_type": "code",
   "execution_count": 30,
   "id": "cce095c2",
   "metadata": {},
   "outputs": [
    {
     "data": {
      "image/png": "[encoded data removed]",
      "text/plain": [
       "<Figure size 1440x720 with 1 Axes>"
      ]
     },
     "metadata": {
      "needs_background": "light"
     },
     "output_type": "display_data"
    }
   ],
   "source": [
    "importance = rfr_best_model.featureImportances\n",
    "x_values = list(range(len(importance)))\n",
    "plt.figure(figsize=(20,10));\n",
    "plt.bar(x_values, importance, orientation = 'vertical')\n",
    "feature_list = ['Age', 'KM', 'MetColor', 'Automatic' ,'HP', 'CC', 'Doors', 'Weight', 'FuelType_CNG', 'FuelType_Diesel', 'FuelType_Petrol']\n",
    "plt.xticks(x_values, feature_list)\n",
    "plt.ylabel('Importance')\n",
    "plt.xlabel('Feature')\n",
    "plt.title('Feature');"
   ]
  },
  {
   "cell_type": "code",
   "execution_count": 31,
   "id": "395eda32",
   "metadata": {},
   "outputs": [
    {
     "data": {
      "text/html": [
       "<div>\n",
       "<style scoped>\n",
       "    .dataframe tbody tr th:only-of-type {\n",
       "        vertical-align: middle;\n",
       "    }\n",
       "\n",
       "    .dataframe tbody tr th {\n",
       "        vertical-align: top;\n",
       "    }\n",
       "\n",
       "    .dataframe thead th {\n",
       "        text-align: right;\n",
       "    }\n",
       "</style>\n",
       "<table border=\"1\" class=\"dataframe\">\n",
       "  <thead>\n",
       "    <tr style=\"text-align: right;\">\n",
       "      <th></th>\n",
       "      <th>feature</th>\n",
       "      <th>importance</th>\n",
       "    </tr>\n",
       "  </thead>\n",
       "  <tbody>\n",
       "    <tr>\n",
       "      <th>0</th>\n",
       "      <td>Age</td>\n",
       "      <td>0.593649</td>\n",
       "    </tr>\n",
       "    <tr>\n",
       "      <th>1</th>\n",
       "      <td>KM</td>\n",
       "      <td>0.169681</td>\n",
       "    </tr>\n",
       "    <tr>\n",
       "      <th>7</th>\n",
       "      <td>Weight</td>\n",
       "      <td>0.116253</td>\n",
       "    </tr>\n",
       "    <tr>\n",
       "      <th>4</th>\n",
       "      <td>HP</td>\n",
       "      <td>0.056351</td>\n",
       "    </tr>\n",
       "    <tr>\n",
       "      <th>5</th>\n",
       "      <td>CC</td>\n",
       "      <td>0.030554</td>\n",
       "    </tr>\n",
       "    <tr>\n",
       "      <th>6</th>\n",
       "      <td>Doors</td>\n",
       "      <td>0.010901</td>\n",
       "    </tr>\n",
       "    <tr>\n",
       "      <th>9</th>\n",
       "      <td>FuelType_Diesel</td>\n",
       "      <td>0.007875</td>\n",
       "    </tr>\n",
       "    <tr>\n",
       "      <th>10</th>\n",
       "      <td>FuelType_Petrol</td>\n",
       "      <td>0.007328</td>\n",
       "    </tr>\n",
       "    <tr>\n",
       "      <th>2</th>\n",
       "      <td>MetColor</td>\n",
       "      <td>0.005279</td>\n",
       "    </tr>\n",
       "    <tr>\n",
       "      <th>3</th>\n",
       "      <td>Automatic</td>\n",
       "      <td>0.001685</td>\n",
       "    </tr>\n",
       "    <tr>\n",
       "      <th>8</th>\n",
       "      <td>FuelType_CNG</td>\n",
       "      <td>0.000444</td>\n",
       "    </tr>\n",
       "  </tbody>\n",
       "</table>\n",
       "</div>"
      ],
      "text/plain": [
       "            feature  importance\n",
       "0               Age    0.593649\n",
       "1                KM    0.169681\n",
       "7            Weight    0.116253\n",
       "4                HP    0.056351\n",
       "5                CC    0.030554\n",
       "6             Doors    0.010901\n",
       "9   FuelType_Diesel    0.007875\n",
       "10  FuelType_Petrol    0.007328\n",
       "2          MetColor    0.005279\n",
       "3         Automatic    0.001685\n",
       "8      FuelType_CNG    0.000444"
      ]
     },
     "execution_count": 31,
     "metadata": {},
     "output_type": "execute_result"
    }
   ],
   "source": [
    "featuresDF = pd.DataFrame(list(zip(assembler.getInputCols(), rfr_best_model.featureImportances)), \n",
    "                          columns=[\"feature\", \"importance\"])\n",
    "featuresDF.sort_values([\"importance\"], ascending=False)"
   ]
  },
  {
   "cell_type": "markdown",
   "id": "717fc331",
   "metadata": {},
   "source": [
    "<h1>Use the best model is Random forest to predict car price</h1>"
   ]
  },
  {
   "cell_type": "markdown",
   "id": "6d98afcd",
   "metadata": {},
   "source": [
    "- With the values below being: \"Age\", \"KM\", \"MetColor\", \"Automatic\" ,\"HP\", \"CC\", \"Doors\", \"Weight\", \"FuelType_CNG\", \"FuelType_Diesel\", \"FuelType_Petrol\""
   ]
  },
  {
   "cell_type": "code",
   "execution_count": 32,
   "id": "3bf1efd5",
   "metadata": {},
   "outputs": [
    {
     "name": "stdout",
     "output_type": "stream",
     "text": [
      "+--------------------+------------------+\n",
      "|            features|        prediction|\n",
      "+--------------------+------------------+\n",
      "|[20.0,46000.0,1.0...|20635.999968587912|\n",
      "+--------------------+------------------+\n",
      "\n",
      "+--------------------+------------------+\n",
      "|            features|        prediction|\n",
      "+--------------------+------------------+\n",
      "|[35.0,80000.0,0.0...|11941.138731642028|\n",
      "+--------------------+------------------+\n",
      "\n"
     ]
    }
   ],
   "source": [
    "from pyspark.ml.linalg import Vectors\n",
    "\n",
    "data = [(Vectors.dense([20, 46000, 1, 0, 192, 2000, 4, 1205,1,0,0]), )]              \n",
    "predictDF = spark.createDataFrame(data, [\"features\"])\n",
    "data2 = [(Vectors.dense([35, 80000, 0, 1, 192, 1500, 3, 1000,0,1,0]), )]              \n",
    "predictDF2 = spark.createDataFrame(data2, [\"features\"])\n",
    "\n",
    "rfr_best_model.transform(predictDF).show()\n",
    "rfr_best_model.transform(predictDF2).show()"
   ]
  },
  {
   "cell_type": "markdown",
   "id": "2fde24dc",
   "metadata": {},
   "source": [
    "<h1>Information</h1>\n",
    "\n",
    "<strong>This project is implemented by group 09, Big Data Applications: Machine Learning at Scale, by Mr. Quach Dinh Hoang. Semester 1 year 2021-2022. Subject code: 211BDML434077. HCMUTE</strong>\n",
    "\n",
    "Member:\n",
    "\n",
    "- 18133047 - Vo Ha Nhat Tan\n",
    "\n",
    "- 18133038 - Pham Dinh Nhien\n",
    "\n",
    "- 1813304 - Nguyen Thanh Cong\n",
    "\n",
    "- 18133061 - Trinh Cong Vien"
   ]
  },
  {
   "cell_type": "code",
   "execution_count": null,
   "id": "44724227",
   "metadata": {},
   "outputs": [],
   "source": []
  }
 ],
 "metadata": {
  "kernelspec": {
   "display_name": "Python 3",
   "language": "python",
   "name": "python3"
  },
  "language_info": {
   "codemirror_mode": {
    "name": "ipython",
    "version": 3
   },
   "file_extension": ".py",
   "mimetype": "text/x-python",
   "name": "python",
   "nbconvert_exporter": "python",
   "pygments_lexer": "ipython3",
   "version": "3.8.8"
  }
 },
 "nbformat": 4,
 "nbformat_minor": 5
}
